{
 "cells": [
  {
   "cell_type": "code",
   "execution_count": 1,
   "metadata": {},
   "outputs": [
    {
     "name": "stdout",
     "output_type": "stream",
     "text": [
      "hello\n"
     ]
    }
   ],
   "source": [
    "print('hello')"
   ]
  },
  {
   "cell_type": "code",
   "execution_count": null,
   "metadata": {},
   "outputs": [],
   "source": [
    "import vlc\n",
    "import os\n",
    "import schedule\n",
    "import time\n",
    "\n",
    "def play_mp3(folder_path, start_time, stop_time):\n",
    "    media_files = [f for f in os.listdir(folder_path) if f.endswith('.mp3')]\n",
    "    instance = vlc.Instance()\n",
    "    player = instance.media_list_player_new()\n",
    "    media_list = instance.media_list_new([os.path.join(folder_path, f) for f in media_files])\n",
    "    player.set_media_list(media_list)\n",
    "\n",
    "    # Set the start and stop times for playback\n",
    "    start_hour, start_minute = map(int, start_time.split(':'))\n",
    "    stop_hour, stop_minute = map(int, stop_time.split(':'))\n",
    "\n",
    "    while True:\n",
    "        # Get the current time\n",
    "        now = time.localtime()\n",
    "        current_hour, current_minute = now.tm_hour, now.tm_min\n",
    "\n",
    "        # Check if it's time to start playback\n",
    "        if current_hour == start_hour and current_minute == start_minute:\n",
    "            player.play()\n",
    "\n",
    "        # Check if it's time to stop playback\n",
    "        if current_hour == stop_hour and current_minute == stop_minute:\n",
    "            player.stop()\n",
    "\n",
    "        # Wait for 1 second before checking again\n",
    "        time.sleep(1)\n",
    "\n",
    "def schedule_playback(folder_path, playback_schedule):\n",
    "    for start_time, stop_time in playback_schedule:\n",
    "        schedule.every().day.at(start_time).do(play_mp3, folder_path, start_time, stop_time)\n",
    "\n",
    "    while True:\n",
    "        schedule.run_pending()\n",
    "        time.sleep(1)\n",
    "\n",
    "# Example usage\n",
    "folder_path = '/path/to/mp3/folder'\n",
    "playback_schedule = [(\"06:00\", \"09:00\"), (\"12:00\", \"15:00\"), (\"18:00\", \"21:00\")]\n",
    "\n",
    "schedule_playback(folder_path, playback_schedule)\n"
   ]
  }
 ],
 "metadata": {
  "kernelspec": {
   "display_name": ".venv",
   "language": "python",
   "name": "python3"
  },
  "language_info": {
   "codemirror_mode": {
    "name": "ipython",
    "version": 3
   },
   "file_extension": ".py",
   "mimetype": "text/x-python",
   "name": "python",
   "nbconvert_exporter": "python",
   "pygments_lexer": "ipython3",
   "version": "3.9.2"
  },
  "orig_nbformat": 4
 },
 "nbformat": 4,
 "nbformat_minor": 2
}
