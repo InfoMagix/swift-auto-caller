{
 "cells": [
  {
   "cell_type": "code",
   "execution_count": 1,
   "metadata": {},
   "outputs": [
    {
     "name": "stdout",
     "output_type": "stream",
     "text": [
      "hello\n"
     ]
    }
   ],
   "source": [
    "print('hello')"
   ]
  },
  {
   "cell_type": "code",
   "execution_count": null,
   "metadata": {},
   "outputs": [],
   "source": [
    "import subprocess\n",
    "\n",
    "def play_mp3(file_path):\n",
    "    subprocess.run(['mpg123', file_path])\n",
    "\n",
    "from flask import Flask, request, render_template\n",
    "import schedule\n",
    "import time\n",
    "import threading\n",
    "from datetime import datetime\n",
    "\n",
    "app = Flask(__name__)\n",
    "\n",
    "@app.route('/')\n",
    "def index():\n",
    "    return render_template('index.html')\n",
    "\n",
    "@app.route('/schedule', methods=['POST'])\n",
    "def schedule_play():\n",
    "    play_time = request.form.get('play_time')\n",
    "    file_path = request.form.get('file_path')\n",
    "    schedule.every().day.at(play_time).do(play_mp3, file_path)\n",
    "    return 'Scheduled to play {} at {}'.format(file_path, play_time)\n",
    "\n",
    "def run_schedule():\n",
    "    while True:\n",
    "        schedule.run_pending()\n",
    "        time.sleep(1)\n",
    "\n",
    "if __name__ == '__main__':\n",
    "    threading.Thread(target=run_schedule).start()\n",
    "    app.run(host='0.0.0.0', port=5000)\n",
    "\n"
   ]
  }
 ],
 "metadata": {
  "kernelspec": {
   "display_name": ".venv",
   "language": "python",
   "name": "python3"
  },
  "language_info": {
   "codemirror_mode": {
    "name": "ipython",
    "version": 3
   },
   "file_extension": ".py",
   "mimetype": "text/x-python",
   "name": "python",
   "nbconvert_exporter": "python",
   "pygments_lexer": "ipython3",
   "version": "3.9.2"
  },
  "orig_nbformat": 4
 },
 "nbformat": 4,
 "nbformat_minor": 2
}
